{
 "cells": [
  {
   "cell_type": "code",
   "execution_count": null,
   "id": "435529b0-d1db-4d29-b5e4-8665ef994889",
   "metadata": {},
   "outputs": [],
   "source": [
    "import pandas as pd\n",
    "\n",
    "# Charger les données depuis un fichier CSV\n",
    "data = pd.read_csv('path_to_your_data.csv')\n",
    "\n",
    "# Afficher les premières lignes des données\n",
    "print(data.head())\n",
    "\n",
    "# Résumé statistique des données\n",
    "print(data.describe())\n",
    "# Supprimer les valeurs manquantes\n",
    "data = data.dropna()\n",
    "\n",
    "# Convertir les colonnes en types appropriés\n",
    "data['date'] = pd.to_datetime(data['date'])\n",
    "\n",
    "# Filtrer les données selon une condition\n",
    "filtered_data = data[data['value'] > 10]\n",
    "import matplotlib.pyplot as plt\n",
    "import seaborn as sns\n",
    "\n",
    "# Histogramme\n",
    "plt.figure(figsize=(10, 6))\n",
    "sns.histplot(data['value'], bins=30)\n",
    "plt.title('Distribution des Valeurs')\n",
    "plt.show()\n",
    "\n",
    "# Graphique en ligne\n",
    "plt.figure(figsize=(10, 6))\n",
    "plt.plot(data['date'], data['value'])\n",
    "plt.title('Valeur au Fil du Temps')\n",
    "plt.xlabel('Date')\n",
    "plt.ylabel('Valeur')\n",
    "plt.show()\n",
    "# Calculer la corrélation entre deux colonnes\n",
    "correlation = data['value'].corr(data['another_column'])\n",
    "print(f\"Corrélation: {correlation}\")\n",
    "\n",
    "# Grouper les données par une colonne et calculer la moyenne\n",
    "grouped_data = data.groupby('category').mean()\n",
    "print(grouped_data)"
   ]
  }
 ],
 "metadata": {
  "kernelspec": {
   "display_name": "Python 3 (ipykernel)",
   "language": "python",
   "name": "python3"
  },
  "language_info": {
   "codemirror_mode": {
    "name": "ipython",
    "version": 3
   },
   "file_extension": ".py",
   "mimetype": "text/x-python",
   "name": "python",
   "nbconvert_exporter": "python",
   "pygments_lexer": "ipython3",
   "version": "3.11.7"
  }
 },
 "nbformat": 4,
 "nbformat_minor": 5
}
